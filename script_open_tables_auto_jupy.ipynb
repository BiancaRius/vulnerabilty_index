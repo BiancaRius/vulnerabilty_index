{
 "cells": [
  {
   "cell_type": "code",
   "execution_count": null,
   "metadata": {},
   "outputs": [],
   "source": [
    "import glob\n",
    "import pandas as pd\n",
    "import os\n",
    "\n",
    "# import traits table\n",
    "traits = pd.read_csv('/home/bianca/backup/Moara/pls_attrs_TASK5/pls_attrs.csv')\n",
    "#select the columns with the traits of interest\n",
    "traits_table = traits[['tleaf','twood','troot','aleaf','awood','aroot']]\n",
    "#print columns name:\n",
    "# for col in traits_table.columns:\n",
    "#     print(col)"
   ]
  },
  {
   "cell_type": "markdown",
   "metadata": {},
   "source": [
    "HISTORICAL SCENARIO"
   ]
  },
  {
   "cell_type": "code",
   "execution_count": null,
   "metadata": {},
   "outputs": [],
   "source": [
    "#creates a function to open the files of interest (hist/rcps) considering each experiment location\n",
    "def create_csv_input(folder):\n",
    "    \n",
    "    df = pd.DataFrame() #creates an empty data frame to be filled with data\n",
    "    \n",
    "    #loop to get the the files\n",
    "    #{folder} indicates wich location will be got\n",
    "    # f\"\" indicates that a string will be used together with an object\n",
    "    # recursive = True is used to access folders inside the main folder\n",
    "    # ** glob library feature to access all folders\n",
    "    for f in glob.glob(f\"input/{folder}/**/hist_lastday.csv\", recursive = True):\n",
    "    \n",
    "    #read the files of interest\n",
    "        df_hist = pd.read_csv(f)\n",
    "\n",
    "    #exclude the 1st column and the 1st line\n",
    "        df_area = df_hist.iloc[1:, -1]\n",
    "    #bind files correspondent to the four models for each location \n",
    "        df = pd.concat([df, df_area], axis = 1)\n",
    "    # transforms df from objetc to float in order to make math operations \n",
    "        df = df.astype(float)\n",
    "    # creates the column 'mean' and calculates the mean of rows \n",
    "        df['mean'] = df.mean(axis = 1)\n",
    "\n",
    "    #write the csv file only considering the 'mean' column/ .lower = lower case\n",
    "        df.to_csv(f\"output/{folder.lower()}_mean_hist.csv\", index = False, columns = ['mean'])"
   ]
  },
  {
   "cell_type": "code",
   "execution_count": null,
   "metadata": {},
   "outputs": [],
   "source": [
    "#list all the diretories inside input folder \n",
    "folders = os.listdir(f\"{os.getcwd()}/input\")\n",
    "print(folders)"
   ]
  },
  {
   "cell_type": "code",
   "execution_count": null,
   "metadata": {},
   "outputs": [],
   "source": [
    "#loop to write all the csv files through calling the function create_csv\n",
    "for folder in folders:\n",
    "    create_csv_input(folder)"
   ]
  },
  {
   "cell_type": "code",
   "execution_count": null,
   "metadata": {},
   "outputs": [],
   "source": [
    "#creates a function to open the files of interest (means of models) considering each experiment location\n",
    "\n",
    "df_mean = pd.DataFrame() #creates an empty data frame to be filled with data \n",
    "\n",
    "\n",
    "for g in glob.glob(f\"output/*.csv\", recursive = True):\n",
    "    df_mean = pd.read_csv(g)\n",
    "    \n",
    "    df_mean['aleaf'] = df_mean['mean']*traits_table['aleaf']\n",
    "    df_mean['awood'] = df_mean['mean']*traits_table['awood']\n",
    "    df_mean['aroot'] = df_mean['mean']*traits_table['aroot']    \n",
    "    df_mean['tleaf'] = df_mean['mean']*traits_table['tleaf']    \n",
    "    df_mean['twood'] = df_mean['mean']*traits_table['twood']    \n",
    "    df_mean['troot'] = df_mean['mean']*traits_table['troot']\n",
    "    # exlude the rows lower than 0 # .index maintain the original index\n",
    "    df_surv = df_mean.drop(df_mean[df_mean['mean'] <= 0].index)\n",
    "   \n",
    "    df_surv = df_surv.loc[:, df_surv.columns!='mean']\n",
    "\n",
    "    print(df_surv.head())\n",
    "\n",
    "def create_csv_output(folder):\n",
    "    df_surv.to_csv(f\"output/{folder.lower()}_trait_hist.csv\", index = False)"
   ]
  },
  {
   "cell_type": "code",
   "execution_count": null,
   "metadata": {},
   "outputs": [],
   "source": [
    "#loop to write all the csv files through calling the function create_csv\n",
    "for folder in folders:\n",
    "    create_csv_output(folder)"
   ]
  },
  {
   "cell_type": "markdown",
   "metadata": {},
   "source": [
    "RCP2.6 SCENARIO"
   ]
  },
  {
   "cell_type": "code",
   "execution_count": 1,
   "metadata": {},
   "outputs": [],
   "source": [
    "import glob\n",
    "import pandas as pd\n",
    "import os\n",
    "\n",
    "# import traits table\n",
    "traits = pd.read_csv('/home/bianca/backup/Moara/pls_attrs_TASK5/pls_attrs.csv')\n",
    "#select the columns with the traits of interest\n",
    "traits_table = traits[['tleaf','twood','troot','aleaf','awood','aroot']]\n",
    "#print columns name:\n",
    "# for col in traits_table.columns:\n",
    "#     print(col)"
   ]
  },
  {
   "cell_type": "code",
   "execution_count": 2,
   "metadata": {},
   "outputs": [],
   "source": [
    "#creates a function to open the files of interest (hist/rcps) considering each experiment location\n",
    "def create_csv_input(folder):\n",
    "    \n",
    "    df = pd.DataFrame() #creates an empty data frame to be filled with data\n",
    "    \n",
    "    #loop to get the the files\n",
    "    #{folder} indicates wich location will be got\n",
    "    # f\"\" indicates that a string will be used together with an object\n",
    "    # recursive = True is used to access folders inside the main folder\n",
    "    # ** glob library feature to access all folders\n",
    "    for f in glob.glob(f\"input/{folder}/**/rcp26_lastday.csv\", recursive = True):\n",
    "    \n",
    "    #read the files of interest\n",
    "        df_rcp26 = pd.read_csv(f)\n",
    "\n",
    "    #exclude the 1st column and the 1st line\n",
    "        df_area_rcp26 = df_rcp26.iloc[1:, -1]\n",
    "    #bind files correspondent to the four models for each location \n",
    "        df = pd.concat([df, df_area_rcp26], axis = 1)\n",
    "    # transforms df from objetc to float in order to make math operations \n",
    "        df = df.astype(float)\n",
    "    # creates the column 'mean' and calculates the mean of rows \n",
    "        df['mean'] = df.mean(axis = 1)\n",
    "\n",
    "    #write the csv file only considering the 'mean' column/ .lower = lower case\n",
    "        df.to_csv(f\"output/{folder.lower()}_mean_rcp26.csv\", index = False, columns = ['mean'])"
   ]
  },
  {
   "cell_type": "code",
   "execution_count": 3,
   "metadata": {},
   "outputs": [
    {
     "name": "stdout",
     "output_type": "stream",
     "text": [
      "['BELEM', 'SILVES', 'ITACOATIARA', 'MANAUS']\n"
     ]
    }
   ],
   "source": [
    "#list all the diretories inside input folder \n",
    "folders = os.listdir(f\"{os.getcwd()}/input\")\n",
    "print(folders)\n",
    "#loop to write all the csv files through calling the function create_csv\n",
    "for folder in folders:\n",
    "    create_csv_input(folder)"
   ]
  },
  {
   "cell_type": "code",
   "execution_count": 4,
   "metadata": {},
   "outputs": [
    {
     "name": "stdout",
     "output_type": "stream",
     "text": [
      "       aleaf  awood     aroot     tleaf  twood     troot\n",
      "0   0.001551    0.0  0.004113  0.023200    0.0  0.012650\n",
      "1   0.000043    0.0  0.000536  0.004315    0.0  0.001868\n",
      "3   0.000313    0.0  0.000369  0.003491    0.0  0.002685\n",
      "7   0.000073    0.0  0.001347  0.008845    0.0  0.009593\n",
      "10  0.000549    0.0  0.000195  0.006190    0.0  0.001528\n",
      "       aleaf  awood     aroot     tleaf  twood     troot\n",
      "0   0.001364    0.0  0.003617  0.020403    0.0  0.011125\n",
      "1   0.000049    0.0  0.000616  0.004961    0.0  0.002148\n",
      "3   0.000136    0.0  0.000161  0.001521    0.0  0.001170\n",
      "7   0.000109    0.0  0.002026  0.013309    0.0  0.014435\n",
      "10  0.000617    0.0  0.000220  0.006953    0.0  0.001716\n",
      "       aleaf  awood     aroot     tleaf  twood     troot\n",
      "0   0.001659    0.0  0.004400  0.024818    0.0  0.013532\n",
      "1   0.000127    0.0  0.001590  0.012809    0.0  0.005546\n",
      "3   0.000121    0.0  0.000143  0.001351    0.0  0.001039\n",
      "7   0.000043    0.0  0.000793  0.005207    0.0  0.005648\n",
      "10  0.002037    0.0  0.000725  0.022957    0.0  0.005667\n",
      "       aleaf  awood     aroot     tleaf  twood     troot\n",
      "0   0.001284    0.0  0.003405  0.019205    0.0  0.010472\n",
      "1   0.000355    0.0  0.004454  0.035871    0.0  0.015531\n",
      "3   0.000315    0.0  0.000371  0.003514    0.0  0.002703\n",
      "7   0.000080    0.0  0.001484  0.009748    0.0  0.010573\n",
      "10  0.001240    0.0  0.000442  0.013982    0.0  0.003452\n"
     ]
    }
   ],
   "source": [
    "#creates a function to open the files of interest (means of models) considering each experiment location\n",
    "\n",
    "df_mean = pd.DataFrame() #creates an empty data frame to be filled with data \n",
    "\n",
    "\n",
    "for g in glob.glob(f\"output/*mean_rcp26.csv\", recursive = True):\n",
    "    \n",
    "    \n",
    "    df_mean = pd.read_csv(g)\n",
    "    \n",
    "    df_mean['aleaf'] = df_mean['mean']*traits_table['aleaf']\n",
    "    df_mean['awood'] = df_mean['mean']*traits_table['awood']\n",
    "    df_mean['aroot'] = df_mean['mean']*traits_table['aroot']    \n",
    "    df_mean['tleaf'] = df_mean['mean']*traits_table['tleaf']    \n",
    "    df_mean['twood'] = df_mean['mean']*traits_table['twood']    \n",
    "    df_mean['troot'] = df_mean['mean']*traits_table['troot']\n",
    "    # exlude the rows lower than 0 # .index maintain the original index\n",
    "    df_surv = df_mean.drop(df_mean[df_mean['mean'] <= 0].index)\n",
    "   \n",
    "    df_surv = df_surv.loc[:, df_surv.columns!='mean']\n",
    "\n",
    "    print(df_surv.head())\n",
    "\n",
    "def create_csv_output(folder):\n",
    "    df_surv.to_csv(f\"output/{folder.lower()}_trait_rcp26.csv\", index = False)"
   ]
  },
  {
   "cell_type": "code",
   "execution_count": null,
   "metadata": {},
   "outputs": [],
   "source": [
    "#loop to write all the csv files through calling the function create_csv\n",
    "for folder in folders:\n",
    "    create_csv_output(folder)"
   ]
  },
  {
   "cell_type": "markdown",
   "metadata": {},
   "source": [
    "RCP6.0 SCENARIO"
   ]
  },
  {
   "cell_type": "code",
   "execution_count": null,
   "metadata": {},
   "outputs": [],
   "source": [
    "#creates a function to open the files of interest (hist/rcps) considering each experiment location\n",
    "def create_csv_input(folder):\n",
    "    \n",
    "    df_rcp60_1 = pd.DataFrame() #creates an empty data frame to be filled with data\n",
    "    \n",
    "    #loop to get the the files\n",
    "    #{folder} indicates wich location will be got\n",
    "    # f\"\" indicates that a string will be used together with an object\n",
    "    # recursive = True is used to access folders inside the main folder\n",
    "    # ** glob library feature to access all folders\n",
    "    for f in glob.glob(f\"input/{folder}/**/rcp60_lastday.csv\", recursive = True):\n",
    "    \n",
    "    #read the files of interest\n",
    "        df_rcp60_1 = pd.read_csv(f)\n",
    "\n",
    "    #exclude the 1st column and the 1st line\n",
    "        df_area_rcp60 = df_rcp60_1.iloc[1:, -1]\n",
    "    #bind files correspondent to the four models for each location \n",
    "        df_rcp60_2 = pd.concat([df_rcp60_2, df_area_rcp60], axis = 1)\n",
    "    # transforms df from objetc to float in order to make math operations \n",
    "        df_rcp60_2 = df_rcp60_2.astype(float)\n",
    "    # creates the column 'mean' and calculates the mean of rows \n",
    "        df_rcp60_2['mean'] = df_rcp60_2.mean(axis = 1)\n",
    "\n",
    "    #write the csv file only considering the 'mean' column/ .lower = lower case\n",
    "        df_rcp60_2.to_csv(f\"output/{folder.lower()}_mean_rcp60.csv\", index = False, columns = ['mean'])"
   ]
  },
  {
   "cell_type": "code",
   "execution_count": null,
   "metadata": {},
   "outputs": [],
   "source": [
    "#list all the diretories inside input folder \n",
    "folders = os.listdir(f\"{os.getcwd()}/input\")\n",
    "print(folders)\n",
    "#loop to write all the csv files through calling the function create_csv\n",
    "for folder in folders:\n",
    "    create_csv_input(folder)"
   ]
  }
 ],
 "metadata": {
  "interpreter": {
   "hash": "b41ac6ca508671a5caf6268b6b0d0812c0e3c0a529a9c9fade382fa197e01168"
  },
  "kernelspec": {
   "display_name": "Python 3.7.4 ('base')",
   "language": "python",
   "name": "python3"
  },
  "language_info": {
   "codemirror_mode": {
    "name": "ipython",
    "version": 3
   },
   "file_extension": ".py",
   "mimetype": "text/x-python",
   "name": "python",
   "nbconvert_exporter": "python",
   "pygments_lexer": "ipython3",
   "version": "3.7.4"
  },
  "orig_nbformat": 4
 },
 "nbformat": 4,
 "nbformat_minor": 2
}
