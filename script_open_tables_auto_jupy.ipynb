{
 "cells": [
  {
   "cell_type": "code",
   "execution_count": null,
   "metadata": {},
   "outputs": [],
   "source": [
    "import glob\n",
    "import pandas as pd\n",
    "import os\n"
   ]
  },
  {
   "cell_type": "code",
   "execution_count": null,
   "metadata": {},
   "outputs": [],
   "source": [
    "# import traits table\n",
    "traits = pd.read_csv('/home/bianca/backup/Moara/pls_attrs_TASK5/pls_attrs.csv')\n",
    "#select the columns with the traits of interest\n",
    "traits_table = traits[['tleaf','twood','troot','aleaf','awood','aroot']]\n",
    "#print columns name:\n",
    "# for col in traits_table.columns:\n",
    "#     print(col)"
   ]
  },
  {
   "cell_type": "code",
   "execution_count": null,
   "metadata": {},
   "outputs": [],
   "source": [
    "#creates a function to open the files of interest (hist/rcps) considering each experiment location\n",
    "def create_csv_input(folder):\n",
    "    \n",
    "    df = pd.DataFrame() #creates an empty data frame to be filled with data\n",
    "    \n",
    "    #loop to get the the files\n",
    "    #{folder} indicates wich location will be got\n",
    "    # f\"\" indicates that a string will be used together with an object\n",
    "    # recursive = True is used to access folders inside the main folder\n",
    "    # ** glob library feature to access all folders\n",
    "    for f in glob.glob(f\"input/{folder}/**/hist_lastday.csv\", recursive = True):\n",
    "    \n",
    "    #read the files of interest\n",
    "        df_hist = pd.read_csv(f)\n",
    "\n",
    "    #exclude the 1st column and the 1st line\n",
    "        df_area = df_hist.iloc[1:, -1]\n",
    "    #bind files correspondent to the four models for each location \n",
    "        df = pd.concat([df, df_area], axis = 1)\n",
    "    # transforms df from objetc to float in order to make math operations \n",
    "        df = df.astype(float)\n",
    "    # creates the column 'mean' and calculates the mean of rows \n",
    "        df['mean'] = df.mean(axis = 1)\n",
    "\n",
    "    #write the csv file only considering the 'mean' column/ .lower = lower case\n",
    "        df.to_csv(f\"output/{folder.lower()}_mean_hist.csv\", index = False, columns = ['mean'])"
   ]
  },
  {
   "cell_type": "code",
   "execution_count": 74,
   "metadata": {},
   "outputs": [
    {
     "name": "stdout",
     "output_type": "stream",
     "text": [
      "['BELEM', 'SILVES', 'ITACOATIARA', 'MANAUS']\n"
     ]
    }
   ],
   "source": [
    "#list all the diretories inside input folder \n",
    "folders = os.listdir(f\"{os.getcwd()}/input\")\n",
    "print(folders)"
   ]
  },
  {
   "cell_type": "code",
   "execution_count": null,
   "metadata": {},
   "outputs": [],
   "source": [
    "#loop to write all the csv files through calling the function create_csv\n",
    "for folder in folders:\n",
    "    create_csv_input(folder)"
   ]
  },
  {
   "cell_type": "code",
   "execution_count": 71,
   "metadata": {},
   "outputs": [
    {
     "name": "stdout",
     "output_type": "stream",
     "text": [
      "       aleaf  awood     aroot     tleaf  twood     troot\n",
      "0   0.001641    0.0  0.004354  0.024554    0.0  0.013389\n",
      "1   0.000108    0.0  0.001353  0.010899    0.0  0.004719\n",
      "3   0.000304    0.0  0.000358  0.003393    0.0  0.002610\n",
      "7   0.000072    0.0  0.001342  0.008814    0.0  0.009559\n",
      "10  0.000536    0.0  0.000191  0.006036    0.0  0.001490\n",
      "       aleaf  awood     aroot     tleaf  twood     troot\n",
      "0   0.001745    0.0  0.004630  0.026114    0.0  0.014239\n",
      "1   0.000124    0.0  0.001558  0.012547    0.0  0.005432\n",
      "3   0.000120    0.0  0.000142  0.001345    0.0  0.001035\n",
      "7   0.000039    0.0  0.000728  0.004780    0.0  0.005184\n",
      "10  0.001983    0.0  0.000706  0.022346    0.0  0.005517\n",
      "       aleaf  awood     aroot     tleaf  twood     troot\n",
      "0   0.001454    0.0  0.003858  0.021757    0.0  0.011863\n",
      "1   0.000050    0.0  0.000633  0.005095    0.0  0.002206\n",
      "3   0.000140    0.0  0.000165  0.001562    0.0  0.001202\n",
      "7   0.000112    0.0  0.002073  0.013615    0.0  0.014767\n",
      "10  0.000612    0.0  0.000218  0.006903    0.0  0.001704\n",
      "       aleaf  awood     aroot     tleaf  twood     troot\n",
      "0   0.001293    0.0  0.003431  0.019349    0.0  0.010550\n",
      "1   0.000358    0.0  0.004493  0.036190    0.0  0.015669\n",
      "3   0.000348    0.0  0.000410  0.003882    0.0  0.002986\n",
      "7   0.000089    0.0  0.001642  0.010781    0.0  0.011693\n",
      "10  0.001273    0.0  0.000453  0.014352    0.0  0.003543\n"
     ]
    }
   ],
   "source": [
    "#creates a function to open the files of interest (means of models) considering each experiment location\n",
    "\n",
    "df_mean = pd.DataFrame() #creates an empty data frame to be filled with data \n",
    "\n",
    "\n",
    "for g in glob.glob(f\"output/*.csv\", recursive = True):\n",
    "    df_mean = pd.read_csv(g)\n",
    "    \n",
    "    df_mean['aleaf'] = df_mean['mean']*traits_table['aleaf']\n",
    "    df_mean['awood'] = df_mean['mean']*traits_table['awood']\n",
    "    df_mean['aroot'] = df_mean['mean']*traits_table['aroot']    \n",
    "    df_mean['tleaf'] = df_mean['mean']*traits_table['tleaf']    \n",
    "    df_mean['twood'] = df_mean['mean']*traits_table['twood']    \n",
    "    df_mean['troot'] = df_mean['mean']*traits_table['troot']\n",
    "    # exlude the rows lower than 0 # .index maintain the original index\n",
    "    df_surv = df_mean.drop(df_mean[df_mean['mean'] <= 0].index)\n",
    "   \n",
    "    df_surv = df_surv.loc[:, df_surv.columns!='mean']\n",
    "\n",
    "    print(df_surv.head())\n",
    "\n",
    "def create_csv_output(folder):\n",
    "    df_surv.to_csv(f\"output/{folder.lower()}_trait.csv\", index = False)"
   ]
  },
  {
   "cell_type": "code",
   "execution_count": 72,
   "metadata": {},
   "outputs": [],
   "source": [
    "#loop to write all the csv files through calling the function create_csv\n",
    "for folder in folders:\n",
    "    create_csv_output(folder)"
   ]
  },
  {
   "cell_type": "code",
   "execution_count": null,
   "metadata": {},
   "outputs": [],
   "source": []
  }
 ],
 "metadata": {
  "interpreter": {
   "hash": "b41ac6ca508671a5caf6268b6b0d0812c0e3c0a529a9c9fade382fa197e01168"
  },
  "kernelspec": {
   "display_name": "Python 3.7.4 ('base')",
   "language": "python",
   "name": "python3"
  },
  "language_info": {
   "codemirror_mode": {
    "name": "ipython",
    "version": 3
   },
   "file_extension": ".py",
   "mimetype": "text/x-python",
   "name": "python",
   "nbconvert_exporter": "python",
   "pygments_lexer": "ipython3",
   "version": "3.7.4"
  },
  "orig_nbformat": 4
 },
 "nbformat": 4,
 "nbformat_minor": 2
}
