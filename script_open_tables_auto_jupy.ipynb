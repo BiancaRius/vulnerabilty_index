{
 "cells": [
  {
   "cell_type": "code",
   "execution_count": 1,
   "metadata": {},
   "outputs": [],
   "source": [
    "import glob\n",
    "import pandas as pd\n",
    "import os\n"
   ]
  },
  {
   "cell_type": "code",
   "execution_count": 3,
   "metadata": {},
   "outputs": [],
   "source": [
    "# import traits table\n",
    "traits = pd.read_csv('/home/bianca/backup/Moara/pls_attrs_TASK5/pls_attrs.csv')\n",
    "#select the columns with the traits of interest\n",
    "traits_table = traits[['tleaf','twood','troot','aleaf','awood','aroot']]\n",
    "#print columns name:\n",
    "# for col in traits_table.columns:\n",
    "#     print(col)"
   ]
  },
  {
   "cell_type": "code",
   "execution_count": 4,
   "metadata": {},
   "outputs": [],
   "source": [
    "#creates a function to open the files of interest (hist/rcps) considering each experiment location\n",
    "def create_csv(folder):\n",
    "    \n",
    "    df = pd.DataFrame() #creates an empty data frame to be filled with data\n",
    "    \n",
    "    #loop to get the the files\n",
    "    #{folder} indicates wich location will be got\n",
    "    # f\"\" indicates that a string will be used together with an object\n",
    "    # recursive = True is used to access folders inside the main folder\n",
    "    # ** glob library feature to access all folders\n",
    "    for f in glob.glob(f\"input/{folder}/**/hist_lastday.csv\", recursive = True):\n",
    "    \n",
    "    #read the files of interest\n",
    "        df_hist = pd.read_csv(f)\n",
    "\n",
    "    #exclude the 1st column and the 1st line\n",
    "        df_area = df_hist.iloc[1:, -1]\n",
    "    #bind files correspondent to the four models for each location \n",
    "        df = pd.concat([df, df_area], axis = 1)\n",
    "    # transforms df from objetc to float in order to make math operations \n",
    "        df = df.astype(float)\n",
    "    # creates the column 'mean' and calculates the mean of rows \n",
    "        df['mean'] = df.mean(axis = 1)\n",
    "\n",
    "    #write the csv file only considering the 'mean' column/ .lower = lower case\n",
    "        df.to_csv(f\"output/{folder.lower()}_mean_hist.csv\", index = False, columns = ['mean'])"
   ]
  },
  {
   "cell_type": "code",
   "execution_count": 5,
   "metadata": {},
   "outputs": [],
   "source": [
    "#list all the diretories inside input folder \n",
    "folders = os.listdir(f\"{os.getcwd()}/input\")"
   ]
  },
  {
   "cell_type": "code",
   "execution_count": 6,
   "metadata": {},
   "outputs": [],
   "source": [
    "#loop to write all the csv files through calling the function create_csv\n",
    "for folder in folders:\n",
    "    create_csv(folder)"
   ]
  }
 ],
 "metadata": {
  "interpreter": {
   "hash": "b41ac6ca508671a5caf6268b6b0d0812c0e3c0a529a9c9fade382fa197e01168"
  },
  "kernelspec": {
   "display_name": "Python 3.7.4 ('base')",
   "language": "python",
   "name": "python3"
  },
  "language_info": {
   "codemirror_mode": {
    "name": "ipython",
    "version": 3
   },
   "file_extension": ".py",
   "mimetype": "text/x-python",
   "name": "python",
   "nbconvert_exporter": "python",
   "pygments_lexer": "ipython3",
   "version": "3.7.4"
  },
  "orig_nbformat": 4
 },
 "nbformat": 4,
 "nbformat_minor": 2
}
