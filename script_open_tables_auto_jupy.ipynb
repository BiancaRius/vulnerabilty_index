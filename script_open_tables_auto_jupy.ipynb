{
 "cells": [
  {
   "cell_type": "code",
   "execution_count": null,
   "metadata": {},
   "outputs": [],
   "source": [
    "import glob\n",
    "import pandas as pd\n",
    "import os\n",
    "\n",
    "# import traits table\n",
    "traits = pd.read_csv('/home/bianca/backup/Moara/pls_attrs_TASK5/pls_attrs.csv')\n",
    "#select the columns with the traits of interest\n",
    "traits_table = traits[['tleaf','twood','troot','aleaf','awood','aroot']]\n",
    "#print columns name:\n",
    "# for col in traits_table.columns:\n",
    "#     print(col)"
   ]
  },
  {
   "cell_type": "markdown",
   "metadata": {},
   "source": [
    "HISTORICAL SCENARIO"
   ]
  },
  {
   "cell_type": "code",
   "execution_count": null,
   "metadata": {},
   "outputs": [],
   "source": [
    "#creates a function to open the files of interest (hist/rcps) considering each experiment location\n",
    "def create_csv_input(folder):\n",
    "    \n",
    "    df = pd.DataFrame() #creates an empty data frame to be filled with data\n",
    "    \n",
    "    #loop to get the the files\n",
    "    #{folder} indicates wich location will be got\n",
    "    # f\"\" indicates that a string will be used together with an object\n",
    "    # recursive = True is used to access folders inside the main folder\n",
    "    # ** glob library feature to access all folders\n",
    "    for f in glob.glob(f\"input/{folder}/**/hist_lastday.csv\", recursive = True):\n",
    "    \n",
    "    #read the files of interest\n",
    "        df_hist = pd.read_csv(f)\n",
    "\n",
    "    #exclude the 1st column and the 1st line\n",
    "        df_area = df_hist.iloc[1:, -1]\n",
    "    #bind files correspondent to the four models for each location \n",
    "        df = pd.concat([df, df_area], axis = 1)\n",
    "    # transforms df from objetc to float in order to make math operations \n",
    "        df = df.astype(float)\n",
    "    # creates the column 'mean' and calculates the mean of rows \n",
    "        df['mean'] = df.mean(axis = 1)\n",
    "\n",
    "    #write the csv file only considering the 'mean' column/ .lower = lower case\n",
    "        df.to_csv(f\"output/{folder.lower()}_mean_hist.csv\", index = False, columns = ['mean'])"
   ]
  },
  {
   "cell_type": "code",
   "execution_count": null,
   "metadata": {},
   "outputs": [],
   "source": [
    "#list all the diretories inside input folder \n",
    "folders = os.listdir(f\"{os.getcwd()}/input\")\n",
    "print(folders)\n",
    "#loop to write all the csv files through calling the function create_csv\n",
    "for folder in folders:\n",
    "    create_csv_input(folder)"
   ]
  },
  {
   "cell_type": "code",
   "execution_count": null,
   "metadata": {},
   "outputs": [],
   "source": [
    "#creates a function to open the files of interest (means of models) considering each experiment location\n",
    "\n",
    "df_mean = pd.DataFrame() #creates an empty data frame to be filled with data \n",
    "\n",
    "\n",
    "for g in glob.glob(f\"output/*.csv\", recursive = True):\n",
    "    df_mean = pd.read_csv(g)\n",
    "    \n",
    "    df_mean['aleaf'] = df_mean['mean']*traits_table['aleaf']\n",
    "    df_mean['awood'] = df_mean['mean']*traits_table['awood']\n",
    "    df_mean['aroot'] = df_mean['mean']*traits_table['aroot']    \n",
    "    df_mean['tleaf'] = df_mean['mean']*traits_table['tleaf']    \n",
    "    df_mean['twood'] = df_mean['mean']*traits_table['twood']    \n",
    "    df_mean['troot'] = df_mean['mean']*traits_table['troot']\n",
    "    # exlude the rows lower than 0 # .index maintain the original index\n",
    "    df_surv = df_mean.drop(df_mean[df_mean['mean'] <= 0].index)\n",
    "   \n",
    "    df_surv = df_surv.loc[:, df_surv.columns!='mean']\n",
    "\n",
    "    print(df_surv.head())\n",
    "\n",
    "def create_csv_output(folder):\n",
    "    df_surv.to_csv(f\"output/{folder.lower()}_trait_hist.csv\", index = False)"
   ]
  },
  {
   "cell_type": "code",
   "execution_count": null,
   "metadata": {},
   "outputs": [],
   "source": [
    "#loop to write all the csv files through calling the function create_csv\n",
    "for folder in folders:\n",
    "    create_csv_output(folder)"
   ]
  },
  {
   "cell_type": "markdown",
   "metadata": {},
   "source": [
    "RCP2.6 SCENARIO"
   ]
  },
  {
   "cell_type": "code",
   "execution_count": null,
   "metadata": {},
   "outputs": [],
   "source": [
    "import glob\n",
    "import pandas as pd\n",
    "import os\n",
    "\n",
    "# import traits table\n",
    "traits = pd.read_csv('/home/bianca/backup/Moara/pls_attrs_TASK5/pls_attrs.csv')\n",
    "#select the columns with the traits of interest\n",
    "traits_table = traits[['tleaf','twood','troot','aleaf','awood','aroot']]\n",
    "#print columns name:\n",
    "# for col in traits_table.columns:\n",
    "#     print(col)"
   ]
  },
  {
   "cell_type": "code",
   "execution_count": null,
   "metadata": {},
   "outputs": [],
   "source": [
    "#creates a function to open the files of interest (hist/rcps) considering each experiment location\n",
    "def create_csv_input(folder):\n",
    "    \n",
    "    df = pd.DataFrame() #creates an empty data frame to be filled with data\n",
    "    \n",
    "    #loop to get the the files\n",
    "    #{folder} indicates wich location will be got\n",
    "    # f\"\" indicates that a string will be used together with an object\n",
    "    # recursive = True is used to access folders inside the main folder\n",
    "    # ** glob library feature to access all folders\n",
    "    for f in glob.glob(f\"input/{folder}/**/rcp26_lastday.csv\", recursive = True):\n",
    "    \n",
    "    #read the files of interest\n",
    "        df_rcp26 = pd.read_csv(f)\n",
    "\n",
    "    #exclude the 1st column and the 1st line\n",
    "        df_area_rcp26 = df_rcp26.iloc[1:, -1]\n",
    "    #bind files correspondent to the four models for each location \n",
    "        df = pd.concat([df, df_area_rcp26], axis = 1)\n",
    "    # transforms df from objetc to float in order to make math operations \n",
    "        df = df.astype(float)\n",
    "    # creates the column 'mean' and calculates the mean of rows \n",
    "        df['mean'] = df.mean(axis = 1)\n",
    "\n",
    "    #write the csv file only considering the 'mean' column/ .lower = lower case\n",
    "        df.to_csv(f\"output/{folder.lower()}_mean_rcp26.csv\", index = False, columns = ['mean'])"
   ]
  },
  {
   "cell_type": "code",
   "execution_count": null,
   "metadata": {},
   "outputs": [],
   "source": [
    "#list all the diretories inside input folder \n",
    "folders = os.listdir(f\"{os.getcwd()}/input\")\n",
    "print(folders)\n",
    "#loop to write all the csv files through calling the function create_csv\n",
    "for folder in folders:\n",
    "    create_csv_input(folder)"
   ]
  },
  {
   "cell_type": "code",
   "execution_count": null,
   "metadata": {},
   "outputs": [],
   "source": [
    "#creates a function to open the files of interest (means of models) considering each experiment location\n",
    "\n",
    "df_mean = pd.DataFrame() #creates an empty data frame to be filled with data \n",
    "\n",
    "\n",
    "for g in glob.glob(f\"output/*mean_rcp26.csv\", recursive = True):\n",
    "    \n",
    "    \n",
    "    df_mean = pd.read_csv(g)\n",
    "    \n",
    "    df_mean['aleaf'] = df_mean['mean']*traits_table['aleaf']\n",
    "    df_mean['awood'] = df_mean['mean']*traits_table['awood']\n",
    "    df_mean['aroot'] = df_mean['mean']*traits_table['aroot']    \n",
    "    df_mean['tleaf'] = df_mean['mean']*traits_table['tleaf']    \n",
    "    df_mean['twood'] = df_mean['mean']*traits_table['twood']    \n",
    "    df_mean['troot'] = df_mean['mean']*traits_table['troot']\n",
    "    # exlude the rows lower than 0 # .index maintain the original index\n",
    "    df_surv = df_mean.drop(df_mean[df_mean['mean'] <= 0].index)\n",
    "   \n",
    "    df_surv = df_surv.loc[:, df_surv.columns!='mean']\n",
    "\n",
    "    print(df_surv.head())\n",
    "\n",
    "def create_csv_output(folder):\n",
    "    df_surv.to_csv(f\"output/{folder.lower()}_trait_rcp26.csv\", index = False)"
   ]
  },
  {
   "cell_type": "code",
   "execution_count": null,
   "metadata": {},
   "outputs": [],
   "source": [
    "#loop to write all the csv files through calling the function create_csv\n",
    "for folder in folders:\n",
    "    create_csv_output(folder)"
   ]
  },
  {
   "cell_type": "markdown",
   "metadata": {},
   "source": [
    "RCP6.0 SCENARIO"
   ]
  },
  {
   "cell_type": "code",
   "execution_count": null,
   "metadata": {},
   "outputs": [],
   "source": [
    "import glob\n",
    "import pandas as pd\n",
    "import os\n",
    "\n",
    "# import traits table\n",
    "traits = pd.read_csv('/home/bianca/backup/Moara/pls_attrs_TASK5/pls_attrs.csv')\n",
    "#select the columns with the traits of interest\n",
    "traits_table = traits[['tleaf','twood','troot','aleaf','awood','aroot']]\n",
    "#print columns name:\n",
    "# for col in traits_table.columns:\n",
    "#     print(col)"
   ]
  },
  {
   "cell_type": "code",
   "execution_count": null,
   "metadata": {},
   "outputs": [],
   "source": [
    "#creates a function to open the files of interest (hist/rcps) considering each experiment location\n",
    "def create_csv_input(folder):\n",
    "    \n",
    "    df = pd.DataFrame() #creates an empty data frame to be filled with data\n",
    "    \n",
    "    #loop to get the the files\n",
    "    #{folder} indicates wich location will be got\n",
    "    # f\"\" indicates that a string will be used together with an object\n",
    "    # recursive = True is used to access folders inside the main folder\n",
    "    # ** glob library feature to access all folders\n",
    "    for f in glob.glob(f\"input/{folder}/**/rcp60_lastday.csv\", recursive = True):\n",
    "    \n",
    "    #read the files of interest\n",
    "        df_hist = pd.read_csv(f)\n",
    "\n",
    "    #exclude the 1st column and the 1st line\n",
    "        df_area = df_hist.iloc[1:, -1]\n",
    "    #bind files correspondent to the four models for each location \n",
    "        df = pd.concat([df, df_area], axis = 1)\n",
    "    # transforms df from objetc to float in order to make math operations \n",
    "        df = df.astype(float)\n",
    "    # creates the column 'mean' and calculates the mean of rows \n",
    "        df['mean'] = df.mean(axis = 1)\n",
    "\n",
    "    #write the csv file only considering the 'mean' column/ .lower = lower case\n",
    "        df.to_csv(f\"output/{folder.lower()}_mean_rcp60.csv\", index = False, columns = ['mean'])"
   ]
  },
  {
   "cell_type": "code",
   "execution_count": null,
   "metadata": {},
   "outputs": [],
   "source": [
    "#list all the diretories inside input folder \n",
    "folders = os.listdir(f\"{os.getcwd()}/input\")\n",
    "print(folders)\n",
    "#loop to write all the csv files through calling the function create_csv\n",
    "for folder in folders:\n",
    "    create_csv_input(folder)"
   ]
  },
  {
   "cell_type": "code",
   "execution_count": null,
   "metadata": {},
   "outputs": [],
   "source": [
    "#creates a function to open the files of interest (means of models) considering each experiment location\n",
    "\n",
    "df_mean = pd.DataFrame() #creates an empty data frame to be filled with data \n",
    "\n",
    "\n",
    "for g in glob.glob(f\"output/*mean_rcp60.csv\", recursive = True):\n",
    "    df_mean = pd.read_csv(g)\n",
    "    \n",
    "    df_mean['aleaf'] = df_mean['mean']*traits_table['aleaf']\n",
    "    df_mean['awood'] = df_mean['mean']*traits_table['awood']\n",
    "    df_mean['aroot'] = df_mean['mean']*traits_table['aroot']    \n",
    "    df_mean['tleaf'] = df_mean['mean']*traits_table['tleaf']    \n",
    "    df_mean['twood'] = df_mean['mean']*traits_table['twood']    \n",
    "    df_mean['troot'] = df_mean['mean']*traits_table['troot']\n",
    "    # exlude the rows lower than 0 # .index maintain the original index\n",
    "    df_surv = df_mean.drop(df_mean[df_mean['mean'] <= 0].index)\n",
    "   \n",
    "    df_surv = df_surv.loc[:, df_surv.columns!='mean']\n",
    "\n",
    "\n",
    "def create_csv_output(folder):\n",
    "    df_surv.to_csv(f\"output/{folder.lower()}_trait_rcp60.csv\", index = False)"
   ]
  },
  {
   "cell_type": "code",
   "execution_count": null,
   "metadata": {},
   "outputs": [],
   "source": [
    "#loop to write all the csv files through calling the function create_csv\n",
    "for folder in folders:\n",
    "    create_csv_output(folder)"
   ]
  },
  {
   "cell_type": "markdown",
   "metadata": {},
   "source": [
    "RCP8.5 SCENARIO"
   ]
  },
  {
   "cell_type": "code",
   "execution_count": 12,
   "metadata": {},
   "outputs": [],
   "source": [
    "import glob\n",
    "import pandas as pd\n",
    "import os\n",
    "\n",
    "# import traits table\n",
    "traits = pd.read_csv('/home/bianca/backup/Moara/pls_attrs_TASK5/pls_attrs.csv')\n",
    "#select the columns with the traits of interest\n",
    "traits_table = traits[['tleaf','twood','troot','aleaf','awood','aroot']]\n",
    "#print columns name:\n",
    "# for col in traits_table.columns:\n",
    "#     print(col)"
   ]
  },
  {
   "cell_type": "code",
   "execution_count": 17,
   "metadata": {},
   "outputs": [],
   "source": [
    "#creates a function to open the files of interest (hist/rcps) considering each experiment location\n",
    "def create_csv_input(folder):\n",
    "    \n",
    "    df = pd.DataFrame() #creates an empty data frame to be filled with data\n",
    "    \n",
    "    #loop to get the the files\n",
    "    #{folder} indicates wich location will be got\n",
    "    # f\"\" indicates that a string will be used together with an object\n",
    "    # recursive = True is used to access folders inside the main folder\n",
    "    # ** glob library feature to access all folders\n",
    "    for f in glob.glob(f\"input/{folder}/**/rcp85_lastday.csv\", recursive = True):\n",
    "    \n",
    "    #read the files of interest\n",
    "        df_hist = pd.read_csv(f)\n",
    "\n",
    "    #exclude the 1st column and the 1st line\n",
    "        df_area = df_hist.iloc[1:, -1]\n",
    "    #bind files correspondent to the four models for each location \n",
    "        df = pd.concat([df, df_area], axis = 1)\n",
    "    # transforms df from objetc to float in order to make math operations \n",
    "        df = df.astype(float)\n",
    "    # creates the column 'mean' and calculates the mean of rows \n",
    "        df['mean'] = df.mean(axis = 1)\n",
    "\n",
    "    #write the csv file only considering the 'mean' column/ .lower = lower case\n",
    "        df.to_csv(f\"output/{folder.lower()}_mean_rcp85.csv\", index = False, columns = ['mean'])"
   ]
  },
  {
   "cell_type": "code",
   "execution_count": 19,
   "metadata": {},
   "outputs": [],
   "source": [
    "#list all the diretories inside input folder \n",
    "folders = os.listdir(f\"{os.getcwd()}/input\")\n",
    "# print(folders)\n",
    "#loop to write all the csv files through calling the function create_csv\n",
    "for folder in folders:\n",
    "    create_csv_input(folder)"
   ]
  },
  {
   "cell_type": "code",
   "execution_count": 21,
   "metadata": {},
   "outputs": [],
   "source": [
    "#creates a function to open the files of interest (means of models) considering each experiment location\n",
    "\n",
    "df_mean = pd.DataFrame() #creates an empty data frame to be filled with data \n",
    "\n",
    "\n",
    "for g in glob.glob(f\"output/*mean_rcp85.csv\", recursive = True):\n",
    "    df_mean = pd.read_csv(g)\n",
    "    \n",
    "    df_mean['aleaf'] = df_mean['mean']*traits_table['aleaf']\n",
    "    df_mean['awood'] = df_mean['mean']*traits_table['awood']\n",
    "    df_mean['aroot'] = df_mean['mean']*traits_table['aroot']    \n",
    "    df_mean['tleaf'] = df_mean['mean']*traits_table['tleaf']    \n",
    "    df_mean['twood'] = df_mean['mean']*traits_table['twood']    \n",
    "    df_mean['troot'] = df_mean['mean']*traits_table['troot']\n",
    "    # exlude the rows lower than 0 # .index maintain the original index\n",
    "    df_surv = df_mean.drop(df_mean[df_mean['mean'] <= 0].index)\n",
    "   \n",
    "    df_surv = df_surv.loc[:, df_surv.columns!='mean']\n",
    "\n",
    "    # print(df_surv.head())\n",
    "\n",
    "def create_csv_output(folder):\n",
    "    df_surv.to_csv(f\"output/{folder.lower()}_trait_rcp85.csv\", index = False)"
   ]
  },
  {
   "cell_type": "code",
   "execution_count": null,
   "metadata": {},
   "outputs": [],
   "source": [
    "#loop to write all the csv files through calling the function create_csv\n",
    "for folder in folders:\n",
    "    create_csv_output(folder)"
   ]
  }
 ],
 "metadata": {
  "interpreter": {
   "hash": "b41ac6ca508671a5caf6268b6b0d0812c0e3c0a529a9c9fade382fa197e01168"
  },
  "kernelspec": {
   "display_name": "Python 3.7.4 ('base')",
   "language": "python",
   "name": "python3"
  },
  "language_info": {
   "codemirror_mode": {
    "name": "ipython",
    "version": 3
   },
   "file_extension": ".py",
   "mimetype": "text/x-python",
   "name": "python",
   "nbconvert_exporter": "python",
   "pygments_lexer": "ipython3",
   "version": "3.7.4"
  },
  "orig_nbformat": 4
 },
 "nbformat": 4,
 "nbformat_minor": 2
}
