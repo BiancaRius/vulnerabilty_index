import glob
import pandas as pd
import os
#import traits table
traits = pd.read_csv('/home/bianca/backup/Moara/pls_attrs_TASK5/pls_attrs.csv')
#select the columns with the traits of interest
traits_table = traits[['tleaf','twood','troot','aleaf','awood','aroot']]
#print columns name:
# for col in traits_table.columns:
    # print(col)
#creates a function to open the files of interest (hist/rcps) considering each experiment location

def create_csv(folder):
    #creates an empty data frame to be filled with data
    df_hist = pd.DataFrame() 

    #loop to get the the files
    #{folder} indicates which location will be got
    # f"" indicates that a string will be used together with an object
    # recursive = True is used to access folders inside the main folder
    # ** glob library feature to access all folders
    for f in glob.glob(f"input/{folder}/**/hist_lastday.csv", recursive = True):
    
    #read the files of interest
        df_hist = pd.read_csv(f)

    #exclude the 1st column and the 1st line
        df_area_hist = df_hist.iloc[1:, -1]

    #bind files correspondent to the four models for each location 
        df_concat_hist = pd.concat([df_concat_hist, df_area_hist], axis = 1)

    # transforms df from objetc to float in order to make math operations 
        df_concat_hist = df_concat_hist.astype(float)

    # creates the column 'mean' and calculates the mean of rows 
        df_concat_hist['mean'] = df_concat_hist.mean(axis = 1)

        
    #write the csv file only considering the 'mean' column/ .lower = lower case
        df_concat_hist.to_csv(f"output/{folder.lower()}_mean_hist.csv", index = False, columns = ['mean'])
#list all the diretories inside input folder 
folders = os.listdir(f"{os.getcwd()}/input")
#loop to write all the csv files through calling the function create_csv
for folder in folders:
    create_csv(folder)
#creates a function to open the files of interest (hist/rcps) considering each experiment location

def create_csv(folder):
    #creates an empty data frame to be filled with data
    df_hist = pd.DataFrame() 

    #loop to get the the files
    #{folder} indicates which location will be got
    # f"" indicates that a string will be used together with an object
    # recursive = True is used to access folders inside the main folder
    # ** glob library feature to access all folders
    for f in glob.glob(f"input/{folder}/**/hist_lastday.csv", recursive = True):
    
    #read the files of interest
        df_hist = pd.read_csv(f)

    #exclude the 1st column and the 1st line
        df_area_hist = df_hist.iloc[1:, -1]

    #bind files correspondent to the four models for each location 
        df_concat_hist = pd.concat([df_hist, df_area_hist], axis = 1)

    # transforms df from objetc to float in order to make math operations 
        df_concat_hist = df_concat_hist.astype(float)

    # creates the column 'mean' and calculates the mean of rows 
        df_concat_hist['mean'] = df_concat_hist.mean(axis = 1)

        
    #write the csv file only considering the 'mean' column/ .lower = lower case
        df_concat_hist.to_csv(f"output/{folder.lower()}_mean_hist.csv", index = False, columns = ['mean'])
#list all the diretories inside input folder 
folders = os.listdir(f"{os.getcwd()}/input")
#loop to write all the csv files through calling the function create_csv
for folder in folders:
    create_csv(folder)
#list all the diretories inside input folder 
folders = os.listdir(f"{os.getcwd()}/input")
#loop to write all the csv files through calling the function create_csv
for folder in folders:
    create_csv(folder)
%history -g
%history -f notebook_file.ipynb
